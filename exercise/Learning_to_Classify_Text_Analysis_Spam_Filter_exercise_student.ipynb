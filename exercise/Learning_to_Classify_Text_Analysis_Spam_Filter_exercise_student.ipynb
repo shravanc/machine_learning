{
 "cells": [
  {
   "cell_type": "code",
   "execution_count": 24,
   "metadata": {
    "slideshow": {
     "slide_type": "slide"
    }
   },
   "outputs": [],
   "source": [
    "import pandas as pd\n",
    "import numpy as np\n",
    "from sklearn.model_selection import train_test_split\n",
    "from sklearn.naive_bayes import MultinomialNB\n",
    "from sklearn.metrics import accuracy_score,confusion_matrix"
   ]
  },
  {
   "cell_type": "markdown",
   "metadata": {},
   "source": [
    "### Spam Classification\n",
    "The goal is to predict if an email is spam or not (ham), by using MultinomialNB.\n",
    "\n",
    "The provided dataset has\n",
    "* 5572 rows (number of emails)\n",
    "* 6217 columns \n",
    "\n",
    "The last column is the  class variable (with two values either \"spam\" or \"ham\").\n",
    "The columns 0-6216 represent words (see Header of the  dataset).\n",
    "\n",
    "This is an example of the first 5 rows and first 30 columns of the dataset\n",
    "\n",
    "<img src=\"dtataset_example_email.png\"></img>\n",
    "\n",
    "A zero value means that word is not present in the email (each row is a different email) and a non-zero value\n",
    "is a count and represents the number of times that word is present in that email.\n",
    "The words are stems,  a stem is the form of a word before any inflectional affixes are added.\n",
    "Example: *cost* is a stem for the words, *cost*, *costs*, *costly*.\n",
    "\n",
    "Your task is:\n",
    "1. loading the dataset using pandas\n",
    "2. counting the number of rows and the number of columns\n",
    "3. You don't need datat preprocessing, the input is in the right format for MultinomialNB\n",
    "4. splitting the dataset in inputs (denoted as X, that includes the columns 0-6216) and output (denoted as y, last column)\n",
    "5. randomly splitting the rows in (X,y) in training (50% of the rows) and testing (50% of the rows), you can use the function `train_test_split` from `sklearn`\n",
    "6. training `MultinomialNB` on the training dataset and predict the class variable for the training dataset and testing dataset\n",
    "7. computing the accuracy for the two predictions and also the confusion_matrix for the prediction on the test set.\n",
    "8. implementing your own prediction by thresholding the probability of the class spam and ham,\n",
    "More precisely, if $[p1,p2]$ is the predicted probability for ham and spam for an instance in the test set, the decision is\n",
    "\n",
    "`\n",
    "if p1>threshold\n",
    "    prediction =\"ham\"\n",
    "elif p2>threshold\n",
    "    prediction =\"spam\"\n",
    "else\n",
    "    prediction = \"non\" #this \"none\" means none of the above cases.\n",
    "`    \n",
    "You then need to compute the resulting accuracy for all the cases where the classifier made a decision (that is it returns something different from -1).\n",
    "\n"
   ]
  },
  {
   "cell_type": "code",
   "execution_count": null,
   "metadata": {},
   "outputs": [],
   "source": []
  }
 ],
 "metadata": {
  "kernelspec": {
   "display_name": "Python 3",
   "language": "python",
   "name": "python3"
  },
  "language_info": {
   "codemirror_mode": {
    "name": "ipython",
    "version": 3
   },
   "file_extension": ".py",
   "mimetype": "text/x-python",
   "name": "python",
   "nbconvert_exporter": "python",
   "pygments_lexer": "ipython3",
   "version": "3.7.3"
  }
 },
 "nbformat": 4,
 "nbformat_minor": 2
}
