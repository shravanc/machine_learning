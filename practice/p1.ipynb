{
 "cells": [
  {
   "cell_type": "code",
   "execution_count": 39,
   "metadata": {},
   "outputs": [
    {
     "name": "stdout",
     "output_type": "stream",
     "text": [
      "['/home/shravan/nltk_data', '/usr/nltk_data', '/usr/share/nltk_data', '/usr/lib/nltk_data', '/usr/share/nltk_data', '/usr/local/share/nltk_data', '/usr/lib/nltk_data', '/usr/local/lib/nltk_data']\n"
     ]
    },
    {
     "name": "stderr",
     "output_type": "stream",
     "text": [
      "[nltk_data] Downloading package names to /home/shravan/nltk_data...\n",
      "[nltk_data]   Unzipping corpora/names.zip.\n"
     ]
    },
    {
     "data": {
      "text/plain": [
       "True"
      ]
     },
     "execution_count": 39,
     "metadata": {},
     "output_type": "execute_result"
    }
   ],
   "source": [
    "import nltk\n",
    "#we download the names\n",
    "#Check default download directory?\n",
    "print(nltk.data.path)\n",
    "\n",
    "#download name data/models from nltk. More details can be found in below link:\n",
    "#https://github.com/nltk/nltk/wiki/Frequently-Asked-Questions-(Stackoverflow-Edition)\n",
    "#nltk.download('names')"
   ]
  },
  {
   "cell_type": "code",
   "execution_count": 13,
   "metadata": {},
   "outputs": [
    {
     "data": {
      "text/plain": [
       "array([['Tremain', 'male'],\n",
       "       ['Christal', 'female'],\n",
       "       ['Janna', 'female'],\n",
       "       ['Fernando', 'male'],\n",
       "       ['Alston', 'male'],\n",
       "       ['Gordan', 'male'],\n",
       "       ['Audrie', 'female'],\n",
       "       ['Alisun', 'female'],\n",
       "       ['Davidson', 'male'],\n",
       "       ['Tabby', 'female']], dtype='<U15')"
      ]
     },
     "execution_count": 13,
     "metadata": {},
     "output_type": "execute_result"
    }
   ],
   "source": [
    "# Mixing and shuffling the data.\n",
    "import numpy as np\n",
    "import random\n",
    "from nltk.corpus import names\n",
    "\n",
    "#extractin male names\n",
    "male_names    = [(name, 'male') for name in names.words('male.txt')]\n",
    "female_names  = [(name, 'female') for name in names.words('female.txt')]\n",
    "\n",
    "#combining the names and randominzing them\n",
    "labeled_names = male_names + female_names\n",
    "random.shuffle(labeled_names)\n",
    "\n",
    "#converting to the numpy array\n",
    "labeled_names=np.array(labeled_names)\n",
    "labeled_names[0:10,:]"
   ]
  },
  {
   "cell_type": "code",
   "execution_count": 17,
   "metadata": {},
   "outputs": [
    {
     "name": "stdout",
     "output_type": "stream",
     "text": [
      "n\n"
     ]
    },
    {
     "data": {
      "text/plain": [
       "array([0, 1, 1, ..., 1, 1, 0])"
      ]
     },
     "execution_count": 17,
     "metadata": {},
     "output_type": "execute_result"
    }
   ],
   "source": [
    "def gender_features(name):\n",
    "    return name[-1].lower()\n",
    "\n",
    "print(gender_features(\"shravan\"))\n",
    "\n",
    "# syntax of numpy_array --> np.array( specifies_row_number, specifies_column_number    )\n",
    "# labeled_names[:, 0]   --> all rows and oth column elements\n",
    "name_letters  = [gender_features(name) for name in labeled_names[:,0]]\n",
    "\n",
    "#remove empty strings\n",
    "\"\"\"\n",
    "a = [\"a\", \"b\", \"c\", \" \", \"e\"]\n",
    "print(a)\n",
    "a = np.array(a)\n",
    "ind = np.where( (a!=\" \")==True)[0]\n",
    "print(ind)\n",
    "print(a[ind])\n",
    "\n",
    "\"\"\"\n",
    "name_letters  = np.array(name_letters)\n",
    "ind           = np.where((name_letters!=' ')==True)[0]\n",
    "name_letters  = name_letters[ind]\n",
    "\n",
    "X = name_letters\n",
    "X = np.array(X).reshape(-1,1)\n",
    "\n",
    "#converting to numerical matrix. male=0, female=1\n",
    "y = np.where(labeled_names[ind,1]=='male',0,1)\n",
    "\n",
    "y"
   ]
  },
  {
   "cell_type": "code",
   "execution_count": 35,
   "metadata": {},
   "outputs": [
    {
     "name": "stdout",
     "output_type": "stream",
     "text": [
      "[[0 0 0 ... 0 0 0]\n",
      " [0 0 0 ... 0 0 0]\n",
      " [1 0 0 ... 0 0 0]\n",
      " ...\n",
      " [0 0 0 ... 0 0 0]\n",
      " [0 0 0 ... 0 0 0]\n",
      " [0 0 0 ... 0 0 0]]\n"
     ]
    }
   ],
   "source": [
    "from sklearn import preprocessing\n",
    "lb = preprocessing.LabelBinarizer()\n",
    "lb.fit(X)\n",
    "X2 =  lb.transform(X)\n",
    "# each character is represented with a number. Example: a=1, b=2, c=3...etc\n",
    "print(X2)\n",
    "\n"
   ]
  },
  {
   "cell_type": "code",
   "execution_count": 25,
   "metadata": {},
   "outputs": [],
   "source": [
    "from sklearn.model_selection import train_test_split\n",
    "\n",
    "X_train2, X_test2, y_train2, y_test2 = train_test_split(X2, y, test_size=0.4, random_state=42)\n",
    "\n",
    "X_train, X_test, y_train, y_test = train_test_split(X, y, test_size=0.4, random_state=42)"
   ]
  },
  {
   "cell_type": "code",
   "execution_count": 26,
   "metadata": {},
   "outputs": [],
   "source": [
    "## General ML Recipe algorithm\n",
    "from sklearn.naive_bayes import MultinomialNB\n",
    "from sklearn.metrics import accuracy_score, confusion_matrix\n",
    "clf = MultinomialNB(alpha=0.1,fit_prior=True) # Note alpha\n",
    "clf.fit(X_train2, y_train2)\n",
    "y_train_pred = clf.predict(X_train2)\n",
    "y_test_pred  = clf.predict(X_test2)"
   ]
  },
  {
   "cell_type": "code",
   "execution_count": 27,
   "metadata": {},
   "outputs": [
    {
     "name": "stdout",
     "output_type": "stream",
     "text": [
      "[[0.56875737 0.43124263]\n",
      " [0.41603725 0.58396275]\n",
      " [0.41603725 0.58396275]\n",
      " ...\n",
      " [0.01660785 0.98339215]\n",
      " [0.56875737 0.43124263]\n",
      " [0.16302179 0.83697821]]\n"
     ]
    },
    {
     "data": {
      "text/plain": [
       "array([['n'],\n",
       "       ['y'],\n",
       "       ['y'],\n",
       "       ...,\n",
       "       ['a'],\n",
       "       ['n'],\n",
       "       ['i']], dtype='<U1')"
      ]
     },
     "execution_count": 27,
     "metadata": {},
     "output_type": "execute_result"
    }
   ],
   "source": [
    "np.set_printoptions(suppress=True)\n",
    "print(clf.predict_proba(X_test2))\n",
    "X_test"
   ]
  },
  {
   "cell_type": "code",
   "execution_count": 28,
   "metadata": {},
   "outputs": [
    {
     "name": "stdout",
     "output_type": "stream",
     "text": [
      "accuracy training set  0.7649527806925498\n",
      "accuracy test set  0.7595972309628697\n"
     ]
    }
   ],
   "source": [
    "# accuracy = correct_prediction / total_prediction\n",
    "print(\"accuracy training set \", accuracy_score(y_train_pred,y_train2))\n",
    "print(\"accuracy test set \",accuracy_score(y_test_pred,y_test2))"
   ]
  },
  {
   "cell_type": "code",
   "execution_count": 29,
   "metadata": {},
   "outputs": [
    {
     "data": {
      "text/plain": [
       "array([[ 797,  400],\n",
       "       [ 364, 1617]])"
      ]
     },
     "execution_count": 29,
     "metadata": {},
     "output_type": "execute_result"
    }
   ],
   "source": [
    "CC=confusion_matrix(y_test2,y_test_pred)\n",
    "CC"
   ]
  },
  {
   "cell_type": "code",
   "execution_count": 38,
   "metadata": {},
   "outputs": [
    {
     "data": {
      "text/plain": [
       "array([0])"
      ]
     },
     "execution_count": 38,
     "metadata": {},
     "output_type": "execute_result"
    }
   ],
   "source": [
    "test1 = lb.transform([''])\n",
    "clf.predict(test1)"
   ]
  },
  {
   "cell_type": "code",
   "execution_count": null,
   "metadata": {},
   "outputs": [],
   "source": []
  }
 ],
 "metadata": {
  "kernelspec": {
   "display_name": "Python 3",
   "language": "python",
   "name": "python3"
  },
  "language_info": {
   "codemirror_mode": {
    "name": "ipython",
    "version": 3
   },
   "file_extension": ".py",
   "mimetype": "text/x-python",
   "name": "python",
   "nbconvert_exporter": "python",
   "pygments_lexer": "ipython3",
   "version": "3.6.9"
  }
 },
 "nbformat": 4,
 "nbformat_minor": 2
}
