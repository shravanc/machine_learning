{
 "cells": [
  {
   "cell_type": "code",
   "execution_count": 7,
   "metadata": {},
   "outputs": [],
   "source": [
    "import pandas as pd  \n",
    "import numpy as np  \n",
    "import matplotlib.pyplot as plt  \n",
    "from sklearn.model_selection import train_test_split \n",
    "from sklearn.linear_model import LinearRegression\n",
    "from sklearn import metrics\n",
    "%matplotlib inline"
   ]
  },
  {
   "cell_type": "markdown",
   "metadata": {},
   "source": [
    "### Weather dataset\n",
    "\n",
    "The dataset `weather_lab.csv` includes daily (min and max) temperature measured by a weather station\n",
    "(366 data pairs).\n",
    "\n",
    "We want to predict the MaxTemp based on the value of the MinTemp recorded. \n",
    "\n",
    "Since the output variable is continuous, this is a **regression problem**.\n",
    "\n",
    "Your task is:\n",
    "1. loading the dataset `weather_lab.csv` using pandas\n",
    "2. counting the number of rows and the number of columns\n",
    "3. splitting the dataset in inputs (denoted as X, that includes the column MinTemp) and output (denoted as y,  column MaxTemp) and transform it into a numpy array using `.values.`\n",
    "4. plot the scatterplot of the data, this is the command\n",
    "\n",
    "`plt.scatter(X,y)\n",
    "plt.xlabel('MinTemp',fontsize=14)\n",
    "plt.ylabel('MaxTemp',fontsize=14) `\n",
    "5. Reshape X so it is a column vector `X=X.reshape(-1,1)`\n",
    "6. randomly splitting the rows in (X,y) in training (60% of the rows) and testing (40% of the rows), you can use the function `train_test_split` from `sklearn`\n",
    "7. training a `LinearRegression` model on the training dataset and predict the output variable for the testing dataset\n",
    "\n",
    "`linreg = LinearRegression(fit_intercept=True)  \n",
    "linreg.fit(x_train, y_train) #training the algorithm\n",
    "y_pred_tr = linreg.predict(x_train)\n",
    "y_pred_te = linreg.predict(x_test)`\n",
    "8. computing the mean squared error (MSE) of the prediction error for the train and test set\n",
    "\n",
    "`np.mean((y_pred_tr-y_train)**2)\n",
    "np.mean((y_pred_te-y_test)**2)`\n",
    "\n",
    "and root mean squared error (RMSE)\n",
    "\n",
    "\n",
    "`np.sqrt(np.mean((y_pred_tr-y_train)**2))\n",
    "np.sqrt(np.mean((y_pred_te-y_test)**2))`\n",
    "\n",
    "RMSE gives the error in the same scale of `y`, \n",
    "e.g. RMSE=4 means that on average the error\n",
    "in the predicted temperature is around $\\pm 4$ degree.\n",
    "9. You can plot the regression line as follows\n",
    "\n",
    "`alpha = linreg.intercept_\n",
    "beta = linreg.coef_[0]\n",
    "plt.plot(X,alpha+beta*X,color='r')\n",
    "plt.scatter(X,y)`\n",
    "\n",
    "\n",
    "**Questions:**\n",
    "10. Predict MaxTemp corresponding to the MinTemp=35, How do you that?\n",
    "11. plot the predicted point together with the scatterplot of the data"
   ]
  },
  {
   "cell_type": "code",
   "execution_count": 4,
   "metadata": {},
   "outputs": [
    {
     "data": {
      "text/html": [
       "<div>\n",
       "<style scoped>\n",
       "    .dataframe tbody tr th:only-of-type {\n",
       "        vertical-align: middle;\n",
       "    }\n",
       "\n",
       "    .dataframe tbody tr th {\n",
       "        vertical-align: top;\n",
       "    }\n",
       "\n",
       "    .dataframe thead th {\n",
       "        text-align: right;\n",
       "    }\n",
       "</style>\n",
       "<table border=\"1\" class=\"dataframe\">\n",
       "  <thead>\n",
       "    <tr style=\"text-align: right;\">\n",
       "      <th></th>\n",
       "      <th>MinTemp</th>\n",
       "      <th>MaxTemp</th>\n",
       "    </tr>\n",
       "  </thead>\n",
       "  <tbody>\n",
       "    <tr>\n",
       "      <th>0</th>\n",
       "      <td>8.0</td>\n",
       "      <td>24.3</td>\n",
       "    </tr>\n",
       "    <tr>\n",
       "      <th>1</th>\n",
       "      <td>14.0</td>\n",
       "      <td>26.9</td>\n",
       "    </tr>\n",
       "    <tr>\n",
       "      <th>2</th>\n",
       "      <td>13.7</td>\n",
       "      <td>23.4</td>\n",
       "    </tr>\n",
       "    <tr>\n",
       "      <th>3</th>\n",
       "      <td>13.3</td>\n",
       "      <td>15.5</td>\n",
       "    </tr>\n",
       "    <tr>\n",
       "      <th>4</th>\n",
       "      <td>7.6</td>\n",
       "      <td>16.1</td>\n",
       "    </tr>\n",
       "    <tr>\n",
       "      <th>...</th>\n",
       "      <td>...</td>\n",
       "      <td>...</td>\n",
       "    </tr>\n",
       "    <tr>\n",
       "      <th>361</th>\n",
       "      <td>9.0</td>\n",
       "      <td>30.7</td>\n",
       "    </tr>\n",
       "    <tr>\n",
       "      <th>362</th>\n",
       "      <td>7.1</td>\n",
       "      <td>28.4</td>\n",
       "    </tr>\n",
       "    <tr>\n",
       "      <th>363</th>\n",
       "      <td>12.5</td>\n",
       "      <td>19.9</td>\n",
       "    </tr>\n",
       "    <tr>\n",
       "      <th>364</th>\n",
       "      <td>12.5</td>\n",
       "      <td>26.9</td>\n",
       "    </tr>\n",
       "    <tr>\n",
       "      <th>365</th>\n",
       "      <td>12.3</td>\n",
       "      <td>30.2</td>\n",
       "    </tr>\n",
       "  </tbody>\n",
       "</table>\n",
       "<p>366 rows × 2 columns</p>\n",
       "</div>"
      ],
      "text/plain": [
       "     MinTemp  MaxTemp\n",
       "0        8.0     24.3\n",
       "1       14.0     26.9\n",
       "2       13.7     23.4\n",
       "3       13.3     15.5\n",
       "4        7.6     16.1\n",
       "..       ...      ...\n",
       "361      9.0     30.7\n",
       "362      7.1     28.4\n",
       "363     12.5     19.9\n",
       "364     12.5     26.9\n",
       "365     12.3     30.2\n",
       "\n",
       "[366 rows x 2 columns]"
      ]
     },
     "execution_count": 4,
     "metadata": {},
     "output_type": "execute_result"
    }
   ],
   "source": [
    "df = pd.read_csv('./weather_lab.csv')\n",
    "df"
   ]
  },
  {
   "cell_type": "code",
   "execution_count": 17,
   "metadata": {},
   "outputs": [
    {
     "data": {
      "text/plain": [
       "Text(0, 0.5, 'MaxTemp')"
      ]
     },
     "execution_count": 17,
     "metadata": {},
     "output_type": "execute_result"
    },
    {
     "data": {
      "image/png": "[encoded data removed]",
      "text/plain": [
       "<Figure size 432x288 with 1 Axes>"
      ]
     },
     "metadata": {},
     "output_type": "display_data"
    }
   ],
   "source": [
    "X = df.iloc[:, 0].values\n",
    "y = df.iloc[:, 1].values\n",
    "plt.scatter(X,y)\n",
    "plt.xlabel('MinTemp',fontsize=14)\n",
    "plt.ylabel('MaxTemp',fontsize=14)"
   ]
  },
  {
   "cell_type": "code",
   "execution_count": 24,
   "metadata": {},
   "outputs": [],
   "source": [
    "X=X.reshape(-1,1)\n",
    "x_train, x_test, y_train, y_test = train_test_split(X, y, test_size=0.4, random_state=42)"
   ]
  },
  {
   "cell_type": "code",
   "execution_count": 25,
   "metadata": {},
   "outputs": [],
   "source": [
    "linreg = LinearRegression(fit_intercept=True)  \n",
    "linreg.fit(x_train, y_train) #training the algorithm\n",
    "y_pred_tr = linreg.predict(x_train)\n",
    "y_pred_te = linreg.predict(x_test)"
   ]
  },
  {
   "cell_type": "code",
   "execution_count": 29,
   "metadata": {},
   "outputs": [
    {
     "data": {
      "text/plain": [
       "19.63048617827247"
      ]
     },
     "execution_count": 29,
     "metadata": {},
     "output_type": "execute_result"
    }
   ],
   "source": [
    "np.mean((y_pred_tr-y_train)**2)"
   ]
  },
  {
   "cell_type": "code",
   "execution_count": 30,
   "metadata": {},
   "outputs": [
    {
     "data": {
      "text/plain": [
       "19.061527401730153"
      ]
     },
     "execution_count": 30,
     "metadata": {},
     "output_type": "execute_result"
    }
   ],
   "source": [
    "np.mean((y_pred_te-y_test)**2)"
   ]
  },
  {
   "cell_type": "code",
   "execution_count": 33,
   "metadata": {},
   "outputs": [
    {
     "name": "stdout",
     "output_type": "stream",
     "text": [
      "4.43063044930092\n"
     ]
    },
    {
     "data": {
      "text/plain": [
       "4.365950916092639"
      ]
     },
     "execution_count": 33,
     "metadata": {},
     "output_type": "execute_result"
    }
   ],
   "source": [
    "print(np.sqrt(np.mean((y_pred_tr-y_train)**2)))\n",
    "\n",
    "np.sqrt(np.mean((y_pred_te-y_test)**2))"
   ]
  },
  {
   "cell_type": "code",
   "execution_count": 34,
   "metadata": {},
   "outputs": [
    {
     "data": {
      "text/plain": [
       "<matplotlib.collections.PathCollection at 0x7fd074c15f28>"
      ]
     },
     "execution_count": 34,
     "metadata": {},
     "output_type": "execute_result"
    },
    {
     "data": {
      "image/png": "[encoded data removed]",
      "text/plain": [
       "<Figure size 432x288 with 1 Axes>"
      ]
     },
     "metadata": {},
     "output_type": "display_data"
    }
   ],
   "source": [
    "alpha = linreg.intercept_\n",
    "beta = linreg.coef_[0]\n",
    "plt.plot(X,alpha+beta*X,color='r')\n",
    "plt.scatter(X,y)\n"
   ]
  },
  {
   "cell_type": "code",
   "execution_count": null,
   "metadata": {},
   "outputs": [],
   "source": []
  }
 ],
 "metadata": {
  "kernelspec": {
   "display_name": "Python 3",
   "language": "python",
   "name": "python3"
  },
  "language_info": {
   "codemirror_mode": {
    "name": "ipython",
    "version": 3
   },
   "file_extension": ".py",
   "mimetype": "text/x-python",
   "name": "python",
   "nbconvert_exporter": "python",
   "pygments_lexer": "ipython3",
   "version": "3.6.8"
  }
 },
 "nbformat": 4,
 "nbformat_minor": 2
}
